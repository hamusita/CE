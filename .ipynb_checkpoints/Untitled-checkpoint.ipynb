{
 "cells": [
  {
   "cell_type": "code",
   "execution_count": 2,
   "metadata": {},
   "outputs": [
    {
     "name": "stdout",
     "output_type": "stream",
     "text": [
      "The autoreload extension is already loaded. To reload it, use:\n",
      "  %reload_ext autoreload\n"
     ]
    }
   ],
   "source": [
    "%load_ext autoreload"
   ]
  },
  {
   "cell_type": "code",
   "execution_count": 7,
   "metadata": {
    "collapsed": true
   },
   "outputs": [],
   "source": [
    "%autoreload 2"
   ]
  },
  {
   "cell_type": "raw",
   "metadata": {
    "collapsed": true
   },
   "source": [
    "# import BisectionMethod as b"
   ]
  },
  {
   "cell_type": "code",
   "execution_count": 9,
   "metadata": {},
   "outputs": [
    {
     "name": "stdout",
     "output_type": "stream",
     "text": [
      "f(a)*f(b) < 0 となるa,bをスペース区切りで入力してください : 1 2\n",
      "[True, True]\n",
      "f(a)*f(b) < 0 を満たしていません\n",
      "f(a)*f(b) < 0 となるa,bをスペース区切りで入力してください : 1 -2\n",
      "[True, True]\n"
     ]
    },
    {
     "data": {
      "text/plain": [
       "(1, -2)"
      ]
     },
     "execution_count": 9,
     "metadata": {},
     "output_type": "execute_result"
    }
   ],
   "source": [
    "b.input_num()"
   ]
  },
  {
   "cell_type": "code",
   "execution_count": 14,
   "metadata": {},
   "outputs": [
    {
     "name": "stdout",
     "output_type": "stream",
     "text": [
      "f(a)*f(b) < 0 となる[a,b]をスペース区切りで入力してください : 1 2\n",
      "有効桁数５桁で収束しました\n",
      " x = 1.165905\n"
     ]
    }
   ],
   "source": [
    "%run BisectionMethod.py"
   ]
  },
  {
   "cell_type": "code",
   "execution_count": 73,
   "metadata": {},
   "outputs": [
    {
     "name": "stdout",
     "output_type": "stream",
     "text": [
      "ガウスの消去法による連立方程式の解法\n",
      "連立方程式の次元数 : 3\n",
      "係数をスペース区切りで入力してください\n",
      "1行目 : 2 3 -1 1\n",
      "[True, True, True, True]\n",
      "2行目 : 1 1 2 0\n",
      "[True, True, True, True]\n",
      "3行目 : 3 -1 1 2\n",
      "[True, True, True, True]\n",
      "\n",
      "正しく入力できましたか？ y or n : y\n",
      "[ 1.         -0.33333333  0.33333333  0.66666667]  = cal[0]\n",
      "[[ 1.         -0.33333333  0.33333333  0.66666667]\n",
      " [ 2.          3.         -1.          1.        ]\n",
      " [ 1.          1.          2.          0.        ]]\n",
      "[ 0.66666667  1.         -0.33333333  0.33333333]  = cal[1]\n",
      "[[ 1.         -0.33333333  0.33333333  0.66666667]\n",
      " [ 0.66666667  1.         -0.33333333  0.33333333]\n",
      " [ 1.          1.          2.          0.        ]]\n",
      "[ 0.5  0.5  1.   0. ]  = cal[2]\n",
      "[[ 1.         -0.33333333  0.33333333  0.66666667]\n",
      " [ 0.66666667  1.         -0.33333333  0.33333333]\n",
      " [ 0.5         0.5         1.          0.        ]]\n",
      "\n",
      "x(1) = -11.000000\n",
      "x(2) = -6.000000\n",
      "x(3) = 2.000000\n",
      "\n",
      "fin.\n",
      "\n"
     ]
    }
   ],
   "source": [
    "%run Gaussian_Elimination_Method.py"
   ]
  },
  {
   "cell_type": "code",
   "execution_count": 31,
   "metadata": {
    "collapsed": true
   },
   "outputs": [],
   "source": [
    "import numpy as np\n",
    "a = np.array([\n",
    "    [ 2, 3, -1, 1],\n",
    "    [1, 1, 2, 0],\n",
    "    [3, -1, 1, 2]\n",
    "])"
   ]
  },
  {
   "cell_type": "code",
   "execution_count": 88,
   "metadata": {},
   "outputs": [
    {
     "name": "stdout",
     "output_type": "stream",
     "text": [
      "ガウスの消去法による連立方程式の解法\n",
      "連立方程式の次元数 : 3\n",
      "係数をスペース区切りで入力してください\n",
      "1行目 : 2 3 -1 1\n",
      "[True, True, True, True]\n",
      "2行目 : 1 1 2 0\n",
      "[True, True, True, True]\n",
      "3行目 : 3 -1 1 2\n",
      "[True, True, True, True]\n",
      "\n",
      "正しく入力できましたか？ y or n : y\n",
      "[[ 3. -1.  1.  2.]\n",
      " [ 2.  3. -1.  1.]\n",
      " [ 1.  1.  2.  0.]]\n",
      "[ 1.         -0.33333333  0.33333333  0.66666667]  = cal[0]\n",
      "\n",
      "[[ 1.         -0.33333333  0.33333333  0.66666667]\n",
      " [ 2.          3.         -1.          1.        ]\n",
      " [ 1.          1.          2.          0.        ]] \n",
      "\n",
      "[[ 1.         -0.33333333  0.33333333  0.66666667]\n",
      " [ 0.          3.66666667 -1.66666667 -0.33333333]\n",
      " [ 0.          1.33333333  1.66666667 -0.66666667]] 対角化\n",
      "\n",
      "[ 0.          1.         -0.45454545 -0.09090909]  = cal[1]\n",
      "\n",
      "[[ 1.         -0.33333333  0.33333333  0.66666667]\n",
      " [ 0.          1.         -0.45454545 -0.09090909]\n",
      " [ 0.          1.33333333  1.66666667 -0.66666667]] \n",
      "\n",
      "[[ 1.         -0.33333333  0.33333333  0.66666667]\n",
      " [ 0.          1.         -0.45454545 -0.09090909]\n",
      " [ 0.          0.          2.27272727 -0.54545455]] 対角化\n",
      "\n",
      "[ 0.    0.    1.   -0.24]  = cal[2]\n",
      "\n",
      "[[ 1.         -0.33333333  0.33333333  0.66666667]\n",
      " [ 0.          1.         -0.45454545 -0.09090909]\n",
      " [ 0.          0.          1.         -0.24      ]] \n",
      "\n",
      "[[ 1.         -0.33333333  0.33333333  0.66666667]\n",
      " [ 0.          1.         -0.45454545 -0.09090909]\n",
      " [ 0.          0.          1.         -0.24      ]] 対角化\n",
      "\n",
      "[-0.24  1.    0.    0.  ] = m\n",
      "x[2] = -0.240000 - 0.000000 \n",
      "[-0.24000000000000002] = x\n",
      "[-0.09090909 -0.45454545  1.          0.        ] = m\n",
      "s += m[1] * x[1 - 2]\n",
      "x[1] = -0.090909 - 0.109091 \n",
      "[-0.24000000000000002, -0.20000000000000001] = x\n",
      "[ 0.66666667  0.33333333 -0.33333333  1.        ] = m\n",
      "s += m[1] * x[1 - 2]\n",
      "s += m[2] * x[2 - 2]\n",
      "x[0] = 0.666667 - 0.013333 \n",
      "[-0.24000000000000002, -0.20000000000000001, 0.65333333333333332] = x\n",
      "\n",
      "x(1) = 0.653333\n",
      "x(2) = -0.200000\n",
      "x(3) = -0.240000\n",
      "\n",
      "fin.\n",
      "\n"
     ]
    }
   ],
   "source": [
    "%run Gaussian_Elimination_Method.py"
   ]
  },
  {
   "cell_type": "code",
   "execution_count": 84,
   "metadata": {},
   "outputs": [
    {
     "data": {
      "text/plain": [
       "-0.199999998"
      ]
     },
     "execution_count": 84,
     "metadata": {},
     "output_type": "execute_result"
    }
   ],
   "source": [
    "-0.09090909 - 0.45454545 * 0.24 "
   ]
  },
  {
   "cell_type": "code",
   "execution_count": null,
   "metadata": {
    "collapsed": true
   },
   "outputs": [],
   "source": []
  }
 ],
 "metadata": {
  "kernelspec": {
   "display_name": "Python 3",
   "language": "python",
   "name": "python3"
  },
  "language_info": {
   "codemirror_mode": {
    "name": "ipython",
    "version": 3
   },
   "file_extension": ".py",
   "mimetype": "text/x-python",
   "name": "python",
   "nbconvert_exporter": "python",
   "pygments_lexer": "ipython3",
   "version": "3.6.3"
  }
 },
 "nbformat": 4,
 "nbformat_minor": 2
}
